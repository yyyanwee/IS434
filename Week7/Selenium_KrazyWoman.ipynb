{
 "cells": [
  {
   "cell_type": "markdown",
   "id": "11addd73",
   "metadata": {},
   "source": [
    "Web Crawling & Scraping (KrazyWoman Dynamic Webpage)\n",
    "\n",
    "Web Scraping using Python\n",
    "\n",
    "We use BeautifulSoup package in Python - to perform web scraping, whereby\n",
    "we attempt to extract out only certain text content.\n",
    "\n",
    "In this lab, we attempt to scrape Kyong's dynamically rendered webpage:\n",
    "http://localhost/is434/dynamic.html\n",
    "\n",
    "We are particularly interested in extracting her \"friends\" list.\n",
    "We want to retrieve her friends' names from an un-ordered list and output to console."
   ]
  },
  {
   "cell_type": "code",
   "execution_count": 1,
   "id": "ac3f00e6",
   "metadata": {},
   "outputs": [],
   "source": [
    "######## Step 1 ########\n",
    "import requests\n",
    "from bs4 import BeautifulSoup"
   ]
  },
  {
   "cell_type": "code",
   "execution_count": 3,
   "id": "18c628d2",
   "metadata": {},
   "outputs": [],
   "source": [
    "######## Step 2 ########\n",
    "source_path = \"http://krazywoman.com/dynamic.html\"\n",
    "page = requests.get(source_path)\n",
    "page_content = page.content"
   ]
  },
  {
   "cell_type": "code",
   "execution_count": 4,
   "id": "90b22ae6",
   "metadata": {},
   "outputs": [
    {
     "name": "stdout",
     "output_type": "stream",
     "text": [
      "<!DOCTYPE html>\n",
      "<html lang=\"en\">\n",
      " <head>\n",
      "  <meta charset=\"utf-8\"/>\n",
      "  <meta content=\"IE=edge\" http-equiv=\"X-UA-Compatible\"/>\n",
      "  <meta content=\"width=device-width, initial-scale=1.0\" name=\"viewport\"/>\n",
      "  <title>\n",
      "   IS434 - Dynamically Rendered Webpage Example 1\n",
      "  </title>\n",
      "  <style>\n",
      "   .heading {\n",
      "            font-weight: bold;\n",
      "            text-align: center;\n",
      "        }\n",
      "  </style>\n",
      "  <script>\n",
      "   const friends = [ 'Joey', 'Chandler', 'Ross', 'Monica', 'Rachel', 'Phoebe' ];\n",
      "  </script>\n",
      " </head>\n",
      " <body onload=\"populate_friends()\">\n",
      "  <h1 class=\"heading\">\n",
      "   Hello! Welcome!\n",
      "  </h1>\n",
      "  <p>\n",
      "   Paragraph 1 goes here. Lorem, ipsum dolor sit amet consectetur adipisicing elit. Autem libero totam doloribus suscipit fugiat reiciendis repellendus necessitatibus, asperiores animi quae dolorem! Laboriosam, aspernatur? Dicta, ad officia? Molestias enim accusantium aut?\n",
      "  </p>\n",
      "  <p>\n",
      "   Paragraph 2 goes here. Lorem, ipsum dolor sit amet consectetur adipisicing elit. Autem libero totam doloribus suscipit fugiat reiciendis repellendus necessitatibus, asperiores animi quae dolorem! Laboriosam, aspernatur? Dicta, ad officia? Molestias enim accusantium aut?\n",
      "  </p>\n",
      "  <div id=\"box\" style=\"display: none\">\n",
      "   <h3>\n",
      "    My Favorite Friends\n",
      "   </h3>\n",
      "   <ul id=\"my-friends\">\n",
      "   </ul>\n",
      "  </div>\n",
      "  <script>\n",
      "   function populate_friends() {\n",
      "\n",
      "            const my_friends = document.getElementById('my-friends');\n",
      "\n",
      "            for (friend of friends) {\n",
      "                let li = document.createElement('li');\n",
      "                li.innerText = friend;\n",
      "                my_friends.appendChild(li);\n",
      "            }\n",
      "\n",
      "            document.getElementById('box').style.display = 'block';\n",
      "        }\n",
      "  </script>\n",
      " </body>\n",
      "</html>\n"
     ]
    }
   ],
   "source": [
    "######## Step 3 ########\n",
    "soup = BeautifulSoup(page_content, 'html.parser')\n",
    "print (soup.prettify())"
   ]
  },
  {
   "cell_type": "markdown",
   "id": "be4ed12a",
   "metadata": {},
   "source": [
    "# Look at \"my-friends\" un-ordered list.\n",
    "# It appears that... the list is empty.\n",
    "# But that's NOT true.\n",
    "# If you open the same URL in a web browser, you will see 6 friends' names.\n",
    "# This way of crawling a webpage will not work because it does not crawl \"rendered\" webpage."
   ]
  },
  {
   "cell_type": "code",
   "execution_count": 5,
   "id": "22aacdd5",
   "metadata": {},
   "outputs": [],
   "source": [
    "from selenium import webdriver\n",
    "from selenium.webdriver.chrome.options import Options\n",
    "from bs4 import BeautifulSoup as bs\n",
    "import time\n",
    "import re\n",
    "from urllib.request import urlopen\n",
    "import json\n",
    "from pandas.io.json import json_normalize\n",
    "import pandas as pd, numpy as np"
   ]
  },
  {
   "cell_type": "code",
   "execution_count": 7,
   "id": "51843420",
   "metadata": {},
   "outputs": [],
   "source": [
    "# Open the web browser\n",
    "source_url = 'http://krazywoman.com/dynamic.html'\n",
    "browser = webdriver.Chrome()\n",
    "browser.get(source_url)"
   ]
  },
  {
   "cell_type": "code",
   "execution_count": 8,
   "id": "4d58a94f",
   "metadata": {},
   "outputs": [
    {
     "name": "stdout",
     "output_type": "stream",
     "text": [
      "------------------------------------------------\n",
      "Kyong has 0 friends\n"
     ]
    }
   ],
   "source": [
    "'''\n",
    "Parse HTML source page\n",
    "Open the source page and use beautiful soup to parse it.\n",
    "'''\n",
    "\n",
    "friends = []\n",
    "\n",
    "source = browser.page_source\n",
    "data = bs(source, 'html.parser')\n",
    "\n",
    "\n",
    "# YOUR CODE GOES HERE\n",
    "    \n",
    "\n",
    "print(\"------------------------------------------------\")\n",
    "print(\"Kyong has \" + str(len(friends)) + \" friends\")"
   ]
  }
 ],
 "metadata": {
  "kernelspec": {
   "display_name": "Python 3 (ipykernel)",
   "language": "python",
   "name": "python3"
  },
  "language_info": {
   "codemirror_mode": {
    "name": "ipython",
    "version": 3
   },
   "file_extension": ".py",
   "mimetype": "text/x-python",
   "name": "python",
   "nbconvert_exporter": "python",
   "pygments_lexer": "ipython3",
   "version": "3.9.7"
  }
 },
 "nbformat": 4,
 "nbformat_minor": 5
}
