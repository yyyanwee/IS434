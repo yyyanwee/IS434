{
 "cells": [
  {
   "cell_type": "markdown",
   "id": "52e76d5b",
   "metadata": {},
   "source": [
    "# Test Selenium Chrome Driver\n",
    "\n",
    "Ref: https://medium.com/@srujana.rao2/scraping-instagram-with-python-using-selenium-and-beautiful-soup-8b72c186a058"
   ]
  },
  {
   "cell_type": "code",
   "execution_count": 1,
   "id": "c59a0134",
   "metadata": {},
   "outputs": [],
   "source": [
    "# Import dependencies\n",
    "from selenium import webdriver\n",
    "from selenium.webdriver.chrome.options import Options\n",
    "from bs4 import BeautifulSoup as bs\n",
    "import time\n",
    "import re\n",
    "from urllib.request import urlopen\n",
    "import json\n",
    "from pandas.io.json import json_normalize\n",
    "import pandas as pd, numpy as np"
   ]
  },
  {
   "cell_type": "code",
   "execution_count": 2,
   "id": "c85308df",
   "metadata": {},
   "outputs": [],
   "source": [
    "# Open the web browser\n",
    "# Selenium uses Chrome Drive to open the profile given a username (public user).\n",
    "# For example -\n",
    "\n",
    "username='davidbeckham'\n",
    "browser = webdriver.Chrome()\n",
    "browser.get('https://www.instagram.com/'+username+'/?hl=en')\n",
    "Pagelength = browser.execute_script(\"window.scrollTo(0, document.body.scrollHeight);\")"
   ]
  },
  {
   "cell_type": "code",
   "execution_count": 3,
   "id": "84cf521a",
   "metadata": {},
   "outputs": [],
   "source": [
    "# If you want to open a hashtag page\n",
    "hashtag='food'\n",
    "browser = webdriver.Chrome()\n",
    "browser.get('https://www.instagram.com/explore/tags/'+hashtag)\n",
    "Pagelength = browser.execute_script(\"window.scrollTo(0, document.body.scrollHeight);\")"
   ]
  },
  {
   "cell_type": "code",
   "execution_count": 6,
   "id": "3ee9f1f7",
   "metadata": {},
   "outputs": [
    {
     "name": "stderr",
     "output_type": "stream",
     "text": [
      "C:\\Users\\yanwe\\AppData\\Local\\Temp/ipykernel_25580/2207856438.py:5: DeprecationWarning: find_elements_by_* commands are deprecated. Please use find_elements() instead\n",
      "  headlines = driver.find_elements_by_class_name(\"headline\")\n"
     ]
    },
    {
     "name": "stdout",
     "output_type": "stream",
     "text": [
      "GOES\n",
      "NASA, ULA Launch NOAA’s Newest Earth Observing Satellite\n",
      "NuSTAR\n",
      "NASA’s NuSTAR Makes Illuminating Discoveries With ‘Nuisance’ Light\n",
      "NASA Announces Launch Options for 2022 Student Launch Competition\n",
      "NASA Kennedy\n",
      "NASA Awards SpaceX Additional Crew Flights to Space Station\n",
      "Space Tech\n",
      "NASA Selects Futuristic Space Technology Concepts for Early Study\n",
      "Webb Telescope\n",
      "Webb Telescope Mirror Alignment Continues Successfully\n",
      "Image of the Day\n",
      "Rosemary Dobbins: Illustrating the Space Age\n",
      "Aeronautics\n",
      "Sign Up to Fly with NASA Using the Flight Log Experience\n",
      "Space Station\n",
      "Inspiring the Next Generation: Meet Three Station Women Engineers\n",
      "NASA Invites Collaboration to Define Future of Air Travel\n"
     ]
    }
   ],
   "source": [
    "# Go to NASA's main page and retrieve all headlines\n",
    "\n",
    "driver = webdriver.Chrome()\n",
    "driver.get('https://www.nasa.gov')\n",
    "headlines = driver.find_elements_by_class_name(\"headline\")\n",
    "for headline in headlines:\n",
    "    print(headline.text.strip())\n",
    "# driver.close()"
   ]
  },
  {
   "cell_type": "code",
   "execution_count": 7,
   "id": "0ebdb033",
   "metadata": {},
   "outputs": [],
   "source": [
    "driver.close()"
   ]
  }
 ],
 "metadata": {
  "kernelspec": {
   "display_name": "Python 3 (ipykernel)",
   "language": "python",
   "name": "python3"
  },
  "language_info": {
   "codemirror_mode": {
    "name": "ipython",
    "version": 3
   },
   "file_extension": ".py",
   "mimetype": "text/x-python",
   "name": "python",
   "nbconvert_exporter": "python",
   "pygments_lexer": "ipython3",
   "version": "3.9.7"
  }
 },
 "nbformat": 4,
 "nbformat_minor": 5
}
